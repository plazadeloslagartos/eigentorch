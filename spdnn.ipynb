{
 "cells": [
  {
   "cell_type": "markdown",
   "metadata": {},
   "source": [
    "# EigenTorch Examples"
   ]
  },
  {
   "cell_type": "code",
   "execution_count": 49,
   "metadata": {},
   "outputs": [],
   "source": [
    "import spdnn\n",
    "import torch\n",
    "import eigenfunctions as eF\n",
    "import eigenoptim as eOptim\n",
    "import matplotlib.pyplot as plt"
   ]
  },
  {
   "cell_type": "code",
   "execution_count": 152,
   "metadata": {},
   "outputs": [],
   "source": [
    "## Generate Example features\n",
    "s1 = 8\n",
    "s2 = 3\n",
    "Xdat = torch.rand(s1, s1)\n",
    "X = Xdat @ Xdat.t()\n",
    "tgt = torch.randn(s2, s2)\n",
    "tgt = tgt @ tgt.t()\n",
    "Wdat = torch.rand(s1, s1)\n",
    "e, v = torch.eig(Wdat, eigenvectors=True)\n",
    "Wdat = v[:s2]\n",
    "W = spdnn.StiefelParameter(Wdat.clone().detach().requires_grad_(True))\n"
   ]
  },
  {
   "cell_type": "markdown",
   "metadata": {},
   "source": [
    "## BiMap Example\n",
    "___Demonstrate that output features are SPD and that weights remain semi-orthogonal after update.___"
   ]
  },
  {
   "cell_type": "code",
   "execution_count": 147,
   "metadata": {
    "scrolled": true
   },
   "outputs": [
    {
     "name": "stdout",
     "output_type": "stream",
     "text": [
      "BiMap Output: \n",
      "\ttensor([[ 2.5801,  1.6673, -0.2379],\n",
      "        [ 1.6673,  2.4016, -0.2675],\n",
      "        [-0.2379, -0.2675,  0.4595]], grad_fn=<BiMapBackward>)\n",
      "Target: \n",
      "\ttensor([[ 2.7355,  1.5045,  0.1669],\n",
      "        [ 1.5045,  1.9002, -0.7454],\n",
      "        [ 0.1669, -0.7454,  0.6719]])\n"
     ]
    },
    {
     "data": {
      "image/png": "[encoded data removed]",
      "text/plain": [
       "<Figure size 432x288 with 1 Axes>"
      ]
     },
     "metadata": {
      "needs_background": "light"
     },
     "output_type": "display_data"
    }
   ],
   "source": [
    "optim = eOptim.StiefelOpt([W], lr=0.0001)\n",
    "bimap_func = eF.BiMap.apply\n",
    "spd_arr = []\n",
    "wne_arr = []\n",
    "wor_arr = []\n",
    "loss_arr = []\n",
    "loss_e_arr = []\n",
    "\n",
    "def check_spd(mat1):\n",
    "    \"\"\"\n",
    "    check for spd by checking for positive norms of submatrices X[0:idx, 0:idx] where 0 < idx <= rank(X)\n",
    "    Also check for symmetry.\n",
    "    \"\"\"\n",
    "    result = True\n",
    "    for idx in range(1, mat1.shape[0]):\n",
    "        norm_val = mat1[:idx, :idx].norm()\n",
    "        if norm_val <= 0.0:\n",
    "            result = False\n",
    "        for midx in range(idx, mat1.shape[0]):\n",
    "            if (mat1[idx, midx] - mat1[midx, idx]) > 1e-4:\n",
    "                result = False\n",
    "    return result\n",
    "\n",
    "def check_sortho(mat1):\n",
    "    \"\"\"\n",
    "    Check to make sure matrix is semi-orthogonal \n",
    "    \"\"\"\n",
    "    tmat = mat1 @ mat1.t()\n",
    "    idxs = torch.ones(3).diag() == 0\n",
    "    valid = (tmat[idxs] < 1e-6).all()\n",
    "    if not valid:\n",
    "        print(tmat)\n",
    "    return valid\n",
    "\n",
    "# Loop through weight updates and check parameters and outputs\n",
    "for epoch in range(200):\n",
    "    W_old = W.clone().detach()\n",
    "    # BiMap output and loss\n",
    "    output = bimap_func(X, W)\n",
    "    loss = torch.mean((output - tgt) **2)\n",
    "    loss_arr.append(loss.item())\n",
    "    loss.backward()\n",
    "    optim.step()\n",
    "    # Update Arrays for checking properties\n",
    "    spd_arr.append(check_spd(output))\n",
    "    wne_arr.append((W == W_old).sum() == 0)\n",
    "    wor_arr.append(check_sortho(W))\n",
    "\n",
    "# Ensure Parameters actually updated\n",
    "assert(torch.tensor(wne_arr).all())\n",
    "# Ensure updated Parameters are semi-orthogonal\n",
    "assert(torch.tensor(wor_arr).all())\n",
    "# Ensure Output is SPD\n",
    "assert(torch.tensor(spd_arr).all())\n",
    "# Plot Loss over time\n",
    "plt.plot(loss_arr)\n",
    "plt.plot(loss_e_arr)\n",
    "plt.xlabel(\"Epoch\")\n",
    "plt.ylabel(\"Loss\")\n",
    "print(\"BiMap Output: \\n\\t{:s}\".format(output.__repr__()))\n",
    "print(\"Target: \\n\\t{:s}\".format(tgt.__repr__()))\n",
    "    \n",
    "    \n",
    "\n"
   ]
  },
  {
   "cell_type": "markdown",
   "metadata": {},
   "source": [
    "## ReEig Example: Demonstrate effect of eigenvalue thresholding by comparing against singular matrix"
   ]
  },
  {
   "cell_type": "code",
   "execution_count": 157,
   "metadata": {
    "scrolled": true
   },
   "outputs": [
    {
     "name": "stdout",
     "output_type": "stream",
     "text": [
      "tensor([[ 1.5558e+01, -2.9987e-06, -3.9968e-06],\n",
      "        [-3.1030e-06,  1.5558e+01,  6.6962e-06],\n",
      "        [-3.0046e-06,  7.0448e-06,  1.5558e+01]], grad_fn=<MmBackward>)\n",
      "tensor([[4.1190, 2.8646, 3.4983],\n",
      "        [2.8646, 4.1491, 3.2978],\n",
      "        [3.4983, 3.2978, 4.2984]], grad_fn=<BiMapBackward>)\n"
     ]
    },
    {
     "data": {
      "text/plain": [
       "Text(0, 0.5, 'Loss')"
      ]
     },
     "execution_count": 157,
     "metadata": {},
     "output_type": "execute_result"
    },
    {
     "data": {
      "image/png": "[encoded data removed]",
      "text/plain": [
       "<Figure size 432x288 with 1 Axes>"
      ]
     },
     "metadata": {
      "needs_background": "light"
     },
     "output_type": "display_data"
    }
   ],
   "source": [
    "W2 = spdnn.StiefelParameter(W.clone().detach().requires_grad_(True))\n",
    "min_eval = torch.eig(X)[0][:, 0][0].min()\n",
    "loss_arr1 = []\n",
    "loss_arr2 = []\n",
    "optim = eOptim.StiefelOpt([W, W2], lr=0.0001)\n",
    "\n",
    "for epoch in range(100):\n",
    "    output1 = eF.ReEig(bimap_func(X, W), min_eval - 1e-4)\n",
    "    loss1 = (output1 - torch.ones_like(output1)).norm()\n",
    "    loss_arr1.append(loss1.item())\n",
    "    loss1.backward()\n",
    "    output2 = bimap_func(X, W2)\n",
    "    loss2 = (output2 - torch.ones_like(output2)).norm()\n",
    "    loss_arr2.append(loss2.item())\n",
    "    loss2.backward()\n",
    "    if epoch == 0:\n",
    "        print(output1)\n",
    "        print(output2)\n",
    "    optim.step()\n",
    "plt.plot(loss_arr1)\n",
    "plt.plot(loss_arr2)\n",
    "plt.legend(['Eigen Thresholding', 'No Thresholding'])\n",
    "plt.xlabel('Epoch')\n",
    "plt.ylabel('Loss')"
   ]
  },
  {
   "cell_type": "code",
   "execution_count": null,
   "metadata": {},
   "outputs": [],
   "source": []
  },
  {
   "cell_type": "code",
   "execution_count": null,
   "metadata": {},
   "outputs": [],
   "source": []
  },
  {
   "cell_type": "code",
   "execution_count": null,
   "metadata": {},
   "outputs": [],
   "source": []
  }
 ],
 "metadata": {
  "kernelspec": {
   "display_name": "Python 3",
   "language": "python",
   "name": "python3"
  },
  "language_info": {
   "codemirror_mode": {
    "name": "ipython",
    "version": 3
   },
   "file_extension": ".py",
   "mimetype": "text/x-python",
   "name": "python",
   "nbconvert_exporter": "python",
   "pygments_lexer": "ipython3",
   "version": "3.7.1"
  }
 },
 "nbformat": 4,
 "nbformat_minor": 2
}
