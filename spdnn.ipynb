{
 "cells": [
  {
   "cell_type": "markdown",
   "metadata": {},
   "source": [
    "# EigenTorch Examples"
   ]
  },
  {
   "cell_type": "code",
   "execution_count": 1,
   "metadata": {},
   "outputs": [],
   "source": [
    "import spdnn\n",
    "import torch\n",
    "import eigenfunctions as eF\n",
    "import eigenoptim as eOptim\n",
    "import matplotlib.pyplot as plt\n",
    "import numpy as np\n",
    "from scipy.signal.windows import dpss"
   ]
  },
  {
   "cell_type": "code",
   "execution_count": 44,
   "metadata": {},
   "outputs": [],
   "source": [
    "## Generate Example features\n",
    "s1 = 8\n",
    "s2 = 6\n",
    "Xdat = torch.rand(s1, 20)\n",
    "Xm = Xdat.mean(1).view(-1, 1)\n",
    "X = (Xdat - Xm) @ (Xdat - Xm).t()\n",
    "tgt= 5.0\n",
    "Wdat = torch.rand(s1, s1)\n",
    "W_init = dpss(s1, 2.0, Kmax=s2)\n",
    "W_init = torch.from_numpy(np.flip(W_init.astype(np.float32), axis=0).copy())\n",
    "e, v = torch.eig(Wdat, eigenvectors=True)\n",
    "Wdat = v[:s2]\n",
    "W = spdnn.StiefelParameter(Wdat.clone().detach().requires_grad_(True))"
   ]
  },
  {
   "cell_type": "markdown",
   "metadata": {},
   "source": [
    "## BiMap and Optimization Example\n",
    "___Demonstrate that output features are SPD and that weights remain semi-orthogonal after update.  Check for convergence with setting a target output matrix norm (frobenius)___"
   ]
  },
  {
   "cell_type": "code",
   "execution_count": 45,
   "metadata": {
    "scrolled": false
   },
   "outputs": [
    {
     "data": {
      "text/plain": [
       "Text(0, 0.5, 'Loss')"
      ]
     },
     "execution_count": 45,
     "metadata": {},
     "output_type": "execute_result"
    },
    {
     "data": {
      "image/png": "[encoded data removed]",
      "text/plain": [
       "<Figure size 432x288 with 1 Axes>"
      ]
     },
     "metadata": {
      "needs_background": "light"
     },
     "output_type": "display_data"
    }
   ],
   "source": [
    "optim = eOptim.StiefelOpt([W], lr=0.001)\n",
    "bimap_func = eF.BiMap.apply\n",
    "spd_arr = []\n",
    "wne_arr = []\n",
    "wor_arr = []\n",
    "loss_arr = []\n",
    "norm_arr = []\n",
    "\n",
    "def check_spd(mat1):\n",
    "    \"\"\"\n",
    "    check for spd by checking for positive norms of submatrices X[0:idx, 0:idx] where 0 < idx <= rank(X)\n",
    "    Also check for symmetry.\n",
    "    \"\"\"\n",
    "    result = True\n",
    "    for idx in range(1, mat1.shape[0]):\n",
    "        norm_val = mat1[:idx, :idx].norm()\n",
    "        if norm_val <= 0.0:\n",
    "            result = False\n",
    "        for midx in range(idx, mat1.shape[0]):\n",
    "            if (mat1[idx, midx] - mat1[midx, idx]) > 1e-3:\n",
    "                result = False\n",
    "    return result\n",
    "\n",
    "def check_sortho(mat1):\n",
    "    \"\"\"\n",
    "    Check to make sure matrix is semi-orthogonal \n",
    "    \"\"\"\n",
    "    tmat = mat1 @ mat1.t()\n",
    "    idxs = torch.ones(s2).diag() == 0\n",
    "    valid = (tmat[idxs] < 1e-6).all()\n",
    "    if not valid:\n",
    "        print(tmat)\n",
    "    return valid\n",
    "\n",
    "# Loop through weight updates and check parameters and outputs\n",
    "for epoch in range(200):\n",
    "    W_old = W.clone().detach()\n",
    "    # BiMap output and loss\n",
    "    output = bimap_func(X, W)\n",
    "    output = eF.ReEig(output, 1e-4)\n",
    "    #loss = torch.mean((output - tgt) **2)\n",
    "    nval = output.norm()\n",
    "    norm_arr.append(nval)\n",
    "    loss = (nval - tgt)**2\n",
    "    loss_arr.append(loss.item())\n",
    "    loss.backward()\n",
    "    optim.step()\n",
    "    # Update Arrays for checking properties\n",
    "    spd_arr.append(check_spd(output))\n",
    "    wne_arr.append((W == W_old).sum() == 0)\n",
    "    wor_arr.append(check_sortho(W))\n",
    "\n",
    "# Ensure Parameters actually updated\n",
    "assert(torch.tensor(wne_arr).all())\n",
    "# Ensure updated Parameters are semi-orthogonal\n",
    "assert(torch.tensor(wor_arr).all())\n",
    "# Ensure Output is SPD\n",
    "assert(torch.tensor(spd_arr).all())\n",
    "# Plot Loss over time\n",
    "plt.plot(loss_arr)\n",
    "plt.plot(norm_arr)\n",
    "plt.legend(['Loss (MSE)', 'Norm of output, Target Value: {:.1f}'.format(tgt)])\n",
    "plt.xlabel(\"Epoch\")\n",
    "plt.ylabel(\"Loss\")\n",
    "\n",
    "    \n",
    "    \n",
    "\n"
   ]
  }
 ],
 "metadata": {
  "kernelspec": {
   "display_name": "Python 3",
   "language": "python",
   "name": "python3"
  },
  "language_info": {
   "codemirror_mode": {
    "name": "ipython",
    "version": 3
   },
   "file_extension": ".py",
   "mimetype": "text/x-python",
   "name": "python",
   "nbconvert_exporter": "python",
   "pygments_lexer": "ipython3",
   "version": "3.7.1"
  }
 },
 "nbformat": 4,
 "nbformat_minor": 2
}
