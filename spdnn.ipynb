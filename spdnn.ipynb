{
 "cells": [
  {
   "cell_type": "code",
   "execution_count": null,
   "metadata": {},
   "outputs": [],
   "source": [
    "import spdnn\n",
    "import eigenfunctions as eF\n",
    "import eigenoptim as eOptim\n",
    "import matplotlib.pyplot as plt"
   ]
  },
  {
   "cell_type": "code",
   "execution_count": null,
   "metadata": {},
   "outputs": [],
   "source": [
    "## Generate Example features\n",
    "s1 = 5\n",
    "s2 = 3\n",
    "Xdat = torch.rand(s1, s1)\n",
    "X = Xdat @ Xdat\n",
    "tgt = torch.rand(s2, s2)\n",
    "tgt = tgt @ tgt\n",
    "Wdat = torch.rand(s1, s1)\n",
    "e, v = torch.eig(Wdat, eigenvectors=True)\n",
    "Wdat = v[:s2]\n",
    "W = Wdat.clone().detach().requires_grad_(True)"
   ]
  },
  {
   "cell_type": "markdown",
   "metadata": {},
   "source": [
    "## BiMap Example\n",
    "___Demonstrate that output features are SPD and that weights remain semi-orthogonal after update.  Also demonstrate convergence.___"
   ]
  },
  {
   "cell_type": "code",
   "execution_count": null,
   "metadata": {},
   "outputs": [],
   "source": [
    "optim = eOptim.StiefelOpt(W, lr=0.001)\n",
    "bimap_func = eF.BiMap.apply\n",
    "spd_arr = []\n",
    "wne_arr = []\n",
    "loss_arr = []\n",
    "\n",
    "def check_spd(mat1):\n",
    "    # check for spd by checking for positive norms of submatrices X[0:idx, 0:idx] where idx <= rank(X)\n",
    "    result = True\n",
    "    for idx in range(mat1.shape[0])\n",
    "        norm_val = mat1[:idx, :idx].norm()\n",
    "        if norm_val <= 0.0\n",
    "            result = False\n",
    "    return result\n",
    "\n",
    "# Loop through weight updates and check parameters and outputs\n",
    "for epoch in range(20):\n",
    "    W_old = W.clone().detach()\n",
    "    output = bimap_func(X, W)\n",
    "    loss = ((output - expect).norm() ** 2)/(s2 ** 2)\n",
    "    loss_arr.append(loss.item())\n",
    "    loss.backward()\n",
    "    optim.step()\n",
    "    spd_arr.append(check_spd(output))\n",
    "    wne_arr.append((W == W_old).sum() == 0)\n",
    "\n",
    "# Ensure Parameters actually updated\n",
    "assert(torch.tensor(wne_arr).all())\n",
    "# Ensure Output is SPD\n",
    "assert(torch.tensor(spd_arr).all())\n",
    "\n",
    "# Plot Loss over time\n",
    "plt.plot(loss_arr)\n",
    "plt.xlabel(\"Epoch\")\n",
    "plt.ylabel(\"Loss (MSE)\")\n",
    "    \n",
    "    \n",
    "\n"
   ]
  }
 ],
 "metadata": {
  "kernelspec": {
   "display_name": "Python 3",
   "language": "python",
   "name": "python3"
  },
  "language_info": {
   "codemirror_mode": {
    "name": "ipython",
    "version": 3
   },
   "file_extension": ".py",
   "mimetype": "text/x-python",
   "name": "python",
   "nbconvert_exporter": "python",
   "pygments_lexer": "ipython3",
   "version": "3.7.1"
  }
 },
 "nbformat": 4,
 "nbformat_minor": 2
}
