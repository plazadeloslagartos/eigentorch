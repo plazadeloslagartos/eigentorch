{
 "cells": [
  {
   "cell_type": "markdown",
   "metadata": {},
   "source": [
    "# EigenTorch Examples"
   ]
  },
  {
   "cell_type": "code",
   "execution_count": 35,
   "metadata": {},
   "outputs": [],
   "source": [
    "import spdnn\n",
    "import torch\n",
    "import eigenfunctions as eF\n",
    "import eigenoptim as eOptim\n",
    "import matplotlib.pyplot as plt"
   ]
  },
  {
   "cell_type": "code",
   "execution_count": 37,
   "metadata": {},
   "outputs": [],
   "source": [
    "## Generate Example features\n",
    "s1 = 5\n",
    "s2 = 3\n",
    "Xdat = torch.rand(s1, s1)\n",
    "X = Xdat @ Xdat.t()\n",
    "tgt = torch.rand(s2, s2)\n",
    "tgt = tgt @ tgt.t()\n",
    "Wdat = torch.rand(s1, s1)\n",
    "e, v = torch.eig(Wdat, eigenvectors=True)\n",
    "Wdat = v[:s2]\n",
    "W = spdnn.StiefelParameter(Wdat.clone().detach().requires_grad_(True))\n",
    "We = torch.nn.Parameter(Wdat.clone().detach().requires_grad_(True))"
   ]
  },
  {
   "cell_type": "markdown",
   "metadata": {},
   "source": [
    "## BiMap Example\n",
    "___Demonstrate that output features are SPD and that weights remain semi-orthogonal after update.  Also demonstrate convergence.___"
   ]
  },
  {
   "cell_type": "code",
   "execution_count": 48,
   "metadata": {
    "scrolled": true
   },
   "outputs": [
    {
     "name": "stdout",
     "output_type": "stream",
     "text": [
      "BiMap Output: \n",
      "\ttensor([[1.0090, 0.4185, 0.6895],\n",
      "        [0.4185, 0.5323, 0.3048],\n",
      "        [0.6895, 0.3048, 1.0728]], grad_fn=<BiMapBackward>)\n",
      "Euclidean Output: \n",
      "\ttensor([[0.9106, 0.1914, 0.6001],\n",
      "        [0.1914, 0.3203, 0.1151],\n",
      "        [0.6001, 0.1151, 0.6337]], grad_fn=<MmBackward>)\n",
      "Target: \n",
      "\ttensor([[0.8436, 0.5813, 0.9163],\n",
      "        [0.5813, 0.8229, 0.4672],\n",
      "        [0.9163, 0.4672, 1.0592]])\n"
     ]
    },
    {
     "data": {
      "image/png": "[encoded data removed]",
      "text/plain": [
       "<Figure size 432x288 with 1 Axes>"
      ]
     },
     "metadata": {
      "needs_background": "light"
     },
     "output_type": "display_data"
    }
   ],
   "source": [
    "optim = eOptim.StiefelOpt([W], lr=0.0001)\n",
    "optim_e = torch.optim.SGD([We], lr=0.0001)\n",
    "bimap_func = eF.BiMap.apply\n",
    "spd_arr = []\n",
    "wne_arr = []\n",
    "wor_arr = []\n",
    "loss_arr = []\n",
    "loss_e_arr = []\n",
    "\n",
    "def check_spd(mat1):\n",
    "    \"\"\"\n",
    "    check for spd by checking for positive norms of submatrices X[0:idx, 0:idx] where 0 < idx <= rank(X)\n",
    "    Also check for symmetry.\n",
    "    \"\"\"\n",
    "    result = True\n",
    "    for idx in range(1, mat1.shape[0]):\n",
    "        norm_val = mat1[:idx, :idx].norm()\n",
    "        if norm_val <= 0.0:\n",
    "            result = False\n",
    "        for midx in range(idx, mat1.shape[0]):\n",
    "            if (mat1[idx, midx] - mat1[midx, idx]) > 1e-4:\n",
    "                result = False\n",
    "    return result\n",
    "\n",
    "def check_sortho(mat1):\n",
    "    \"\"\"\n",
    "    Check to make sure matrix is semi-orthogonal \n",
    "    \"\"\"\n",
    "    tmat = mat1 @ mat1.t()\n",
    "    idxs = torch.ones(3).diag() == 0\n",
    "    valid = (tmat[idxs] < 1e-6).all()\n",
    "    if not valid:\n",
    "        print(tmat)\n",
    "    return valid\n",
    "\n",
    "# Loop through weight updates and check parameters and outputs\n",
    "for epoch in range(40):\n",
    "    W_old = W.clone().detach()\n",
    "    # BiMap output and loss\n",
    "    output = bimap_func(X, W)\n",
    "    output_e = We.mm(X.mm(We.t()))\n",
    "    loss = (output - tgt).norm()\n",
    "    loss_arr.append(loss.item())\n",
    "    loss.backward()\n",
    "    # Euclidean bilinear output and loss\n",
    "    loss_e = (output_e - tgt).norm()\n",
    "    loss_e_arr.append(loss_e.item())\n",
    "    loss_e.backward()\n",
    "    optim.step()\n",
    "    optim_e.step()\n",
    "    # Update Arrays for checking properties\n",
    "    spd_arr.append(check_spd(output))\n",
    "    wne_arr.append((W == W_old).sum() == 0)\n",
    "    wor_arr.append(check_sortho(W))\n",
    "\n",
    "# Ensure Parameters actually updated\n",
    "assert(torch.tensor(wne_arr).all())\n",
    "# Ensure updated Parameters are semi-orthogonal\n",
    "assert(torch.tensor(wor_arr).all())\n",
    "# Ensure Output is SPD\n",
    "assert(torch.tensor(spd_arr).all())\n",
    "# Plot Loss over time\n",
    "plt.plot(loss_arr)\n",
    "plt.plot(loss_e_arr)\n",
    "plt.xlabel(\"Epoch\")\n",
    "plt.ylabel(\"Loss\")\n",
    "plt.legend([\"BiMap\", \"Euclid\"])\n",
    "print(\"BiMap Output: \\n\\t{:s}\".format(output.__repr__()))\n",
    "print(\"Euclidean Output: \\n\\t{:s}\".format(output_e.__repr__()))\n",
    "print(\"Target: \\n\\t{:s}\".format(tgt.__repr__()))\n",
    "    \n",
    "    \n",
    "\n"
   ]
  },
  {
   "cell_type": "markdown",
   "metadata": {},
   "source": [
    "## ReEig Example: Demonstrate effect of eigenvalue thresholding"
   ]
  },
  {
   "cell_type": "code",
   "execution_count": 43,
   "metadata": {
    "scrolled": true
   },
   "outputs": [
    {
     "name": "stdout",
     "output_type": "stream",
     "text": [
      "tensor([2.2538e+00, 3.9497e-05, 4.7189e-01])\n"
     ]
    }
   ],
   "source": [
    "tgt = X.clone()\n",
    "X = output.clone().detach.requies_grad(False)\n",
    "min_eval = torch.eig(tgt)[0][:, 0][0]\n",
    "min_val = evals.min()"
   ]
  },
  {
   "cell_type": "code",
   "execution_count": null,
   "metadata": {},
   "outputs": [],
   "source": []
  },
  {
   "cell_type": "code",
   "execution_count": null,
   "metadata": {},
   "outputs": [],
   "source": []
  }
 ],
 "metadata": {
  "kernelspec": {
   "display_name": "Python 3",
   "language": "python",
   "name": "python3"
  },
  "language_info": {
   "codemirror_mode": {
    "name": "ipython",
    "version": 3
   },
   "file_extension": ".py",
   "mimetype": "text/x-python",
   "name": "python",
   "nbconvert_exporter": "python",
   "pygments_lexer": "ipython3",
   "version": "3.7.1"
  }
 },
 "nbformat": 4,
 "nbformat_minor": 2
}
